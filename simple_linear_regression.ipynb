{
  "nbformat": 4,
  "nbformat_minor": 0,
  "metadata": {
    "colab": {
      "name": "simple_linear_regression.ipynb",
      "provenance": [],
      "toc_visible": true,
      "mount_file_id": "1budCTNgFFnJv_zQMX_0HifAOxV7CPJA9",
      "authorship_tag": "ABX9TyPnjzQh14+WuEEVt7O5Kvpy",
      "include_colab_link": true
    },
    "kernelspec": {
      "name": "python3",
      "display_name": "Python 3"
    },
    "language_info": {
      "name": "python"
    }
  },
  "cells": [
    {
      "cell_type": "markdown",
      "metadata": {
        "id": "view-in-github",
        "colab_type": "text"
      },
      "source": [
        "<a href=\"https://colab.research.google.com/github/ProsperChuks/metrics/blob/main/simple_linear_regression.ipynb\" target=\"_parent\"><img src=\"https://colab.research.google.com/assets/colab-badge.svg\" alt=\"Open In Colab\"/></a>"
      ]
    },
    {
      "cell_type": "code",
      "metadata": {
        "id": "YXERT6gChpXU"
      },
      "source": [
        "from statistics import mean\n",
        "import pandas as pd\n",
        "import matplotlib.pyplot as plt"
      ],
      "execution_count": 1,
      "outputs": []
    },
    {
      "cell_type": "code",
      "metadata": {
        "colab": {
          "base_uri": "https://localhost:8080/",
          "height": 297
        },
        "id": "q_V4ijoJYgE7",
        "outputId": "c0f23a3c-f6b5-41ac-c206-87fd4634c0af"
      },
      "source": [
        "path = '/content/drive/MyDrive/Colab Notebooks/regression/linear/hamoye/ENB2012_data.xlsx'\n",
        "\n",
        "df = pd.read_excel(path)\n",
        "\n",
        "new_col_names = {'X1':'Relative_Compactness', 'X2': 'Surface_Area',\n",
        "                 'X3': 'Wall_Area', 'X4': 'Roof_Area', 'X5': 'Overall_Height',\n",
        "                 'X6': 'Orientation', 'X7': 'Glazing_Area',\n",
        "                 'X8': 'Glazing_Area_Distribution',\n",
        "                 'Y1': 'Heating_Load', 'Y2': 'Cooling_Load'}\n",
        "\n",
        "df = df.rename(columns=new_col_names)\n",
        "\n",
        "simple_lin_reg_df = df[['Relative_Compactness', 'Cooling_Load']].sample(15, random_state=2)\n",
        "\n",
        "xs = simple_lin_reg_df['Relative_Compactness']\n",
        "ys = simple_lin_reg_df['Cooling_Load']\n",
        "\n",
        "'%.2f'%xs.corr(ys)\n",
        "\n",
        "def best_fit_slope_and_y_intercept(xs, ys):\n",
        "\n",
        "  m = (((mean(xs) * mean(ys)) - mean(xs * ys)) /\n",
        "       (mean(xs)**2 - mean(xs**2)))\n",
        "  b = mean(ys) - m*mean(xs)\n",
        "  return m, b\n",
        "\n",
        "m, b = best_fit_slope_and_y_intercept(xs, ys)\n",
        "\n",
        "regression_line = [(m*x) + b for x in xs]\n",
        "\n",
        "plt.scatter(xs, ys, c=ys)\n",
        "plt.plot(xs, regression_line)\n",
        "plt.xlabel('Relative_Compactness')\n",
        "plt.ylabel('Cooling_Load')"
      ],
      "execution_count": 3,
      "outputs": [
        {
          "output_type": "execute_result",
          "data": {
            "text/plain": [
              "Text(0, 0.5, 'Cooling_Load')"
            ]
          },
          "metadata": {},
          "execution_count": 3
        },
        {
          "output_type": "display_data",
          "data": {
            "image/png": "[encoded data removed]",
            "text/plain": [
              "<Figure size 432x288 with 1 Axes>"
            ]
          },
          "metadata": {
            "needs_background": "light"
          }
        }
      ]
    },
    {
      "cell_type": "markdown",
      "metadata": {
        "id": "glELgaDrrL0d"
      },
      "source": [
        "## metrics"
      ]
    },
    {
      "cell_type": "markdown",
      "metadata": {
        "id": "8gFvxF3ftdbw"
      },
      "source": [
        "### mean absolute error"
      ]
    },
    {
      "cell_type": "code",
      "metadata": {
        "colab": {
          "base_uri": "https://localhost:8080/",
          "height": 35
        },
        "id": "utYNcNWIrPah",
        "outputId": "353d04e0-d107-4f5b-9a00-dbe3b7dc0052"
      },
      "source": [
        "# firstly normalizing the dataset to a common scale using min max scaler\n",
        "from sklearn.preprocessing import MinMaxScaler\n",
        "from sklearn.model_selection import train_test_split\n",
        "from sklearn.linear_model import LinearRegression\n",
        "import numpy as np\n",
        "\n",
        "scaler = MinMaxScaler()\n",
        "normalized_df = pd.DataFrame(scaler.fit_transform(df), columns=df.columns)\n",
        "predictors_df = normalized_df.drop(columns=['Heating_Load', 'Cooling_Load'])\n",
        "heating_target = normalized_df['Heating_Load']\n",
        "\n",
        "x_train, x_test, y_train, y_test = train_test_split(predictors_df, heating_target, test_size=0.3, random_state=1)\n",
        "\n",
        "linear_model = LinearRegression()\n",
        "linear_model.fit(x_train, y_train)\n",
        "\n",
        "predicted_values = linear_model.predict(x_test)\n",
        "predicted_values\n",
        "\n",
        "#MAE\n",
        "from sklearn.metrics import mean_absolute_error\n",
        "mae = mean_absolute_error(y_test, predicted_values)\n",
        "'%.3f'%mae"
      ],
      "execution_count": 52,
      "outputs": [
        {
          "output_type": "execute_result",
          "data": {
            "application/vnd.google.colaboratory.intrinsic+json": {
              "type": "string"
            },
            "text/plain": [
              "'0.063'"
            ]
          },
          "metadata": {},
          "execution_count": 52
        }
      ]
    },
    {
      "cell_type": "markdown",
      "metadata": {
        "id": "Ky40udR99LHI"
      },
      "source": [
        "### residual sum of squares"
      ]
    },
    {
      "cell_type": "code",
      "metadata": {
        "colab": {
          "base_uri": "https://localhost:8080/",
          "height": 35
        },
        "id": "OoUaKg1c9QPe",
        "outputId": "4976c93d-a661-4501-cf5a-c89585925a64"
      },
      "source": [
        "rss = np.sum(np.square(y_test - predicted_values))\n",
        "'%.3f'%rss"
      ],
      "execution_count": 53,
      "outputs": [
        {
          "output_type": "execute_result",
          "data": {
            "application/vnd.google.colaboratory.intrinsic+json": {
              "type": "string"
            },
            "text/plain": [
              "'1.823'"
            ]
          },
          "metadata": {},
          "execution_count": 53
        }
      ]
    },
    {
      "cell_type": "markdown",
      "metadata": {
        "id": "5m73tKT4-XP4"
      },
      "source": [
        "### root mean square error"
      ]
    },
    {
      "cell_type": "code",
      "metadata": {
        "colab": {
          "base_uri": "https://localhost:8080/",
          "height": 35
        },
        "id": "dyjLAeoL-bgP",
        "outputId": "fe5b2367-06ab-4bbc-9a31-1eee83a87246"
      },
      "source": [
        "from sklearn.metrics import mean_squared_error\n",
        "\n",
        "rmse = np.sqrt(mean_squared_error(y_test, predicted_values))\n",
        "'%.3f'%rmse"
      ],
      "execution_count": 54,
      "outputs": [
        {
          "output_type": "execute_result",
          "data": {
            "application/vnd.google.colaboratory.intrinsic+json": {
              "type": "string"
            },
            "text/plain": [
              "'0.089'"
            ]
          },
          "metadata": {},
          "execution_count": 54
        }
      ]
    },
    {
      "cell_type": "markdown",
      "metadata": {
        "id": "BzlJjy8dBNEI"
      },
      "source": [
        "### r_squared"
      ]
    },
    {
      "cell_type": "code",
      "metadata": {
        "colab": {
          "base_uri": "https://localhost:8080/",
          "height": 35
        },
        "id": "cKKsx0JaBg9P",
        "outputId": "ef732d3a-d5fa-4db9-ca7e-27666f03fac7"
      },
      "source": [
        "from sklearn.metrics import r2_score\n",
        "\n",
        "r2 = r2_score(y_test, predicted_values)\n",
        "'%.3f'%r2"
      ],
      "execution_count": 55,
      "outputs": [
        {
          "output_type": "execute_result",
          "data": {
            "application/vnd.google.colaboratory.intrinsic+json": {
              "type": "string"
            },
            "text/plain": [
              "'0.893'"
            ]
          },
          "metadata": {},
          "execution_count": 55
        }
      ]
    }
  ]
}